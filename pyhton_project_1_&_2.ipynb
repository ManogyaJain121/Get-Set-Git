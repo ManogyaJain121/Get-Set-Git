{
  "nbformat": 4,
  "nbformat_minor": 0,
  "metadata": {
    "colab": {
      "provenance": [],
      "authorship_tag": "ABX9TyNnrWAcFRC6ld2jVO/DBOxh",
      "include_colab_link": true
    },
    "kernelspec": {
      "name": "python3",
      "display_name": "Python 3"
    },
    "language_info": {
      "name": "python"
    }
  },
  "cells": [
    {
      "cell_type": "markdown",
      "metadata": {
        "id": "view-in-github",
        "colab_type": "text"
      },
      "source": [
        "<a href=\"https://colab.research.google.com/github/ManogyaJain121/Get-Set-Git/blob/main/pyhton_project_1_%26_2.ipynb\" target=\"_parent\"><img src=\"https://colab.research.google.com/assets/colab-badge.svg\" alt=\"Open In Colab\"/></a>"
      ]
    },
    {
      "cell_type": "code",
      "source": [],
      "metadata": {
        "id": "WN_D_y11qPXp"
      },
      "execution_count": null,
      "outputs": []
    },
    {
      "cell_type": "code",
      "execution_count": null,
      "metadata": {
        "colab": {
          "base_uri": "https://localhost:8080/"
        },
        "id": "7nvxVgtJpR3p",
        "outputId": "cb4e19b7-6cb3-4611-c862-8cf113d341b7"
      },
      "outputs": [
        {
          "output_type": "stream",
          "name": "stdout",
          "text": [
            "Welcome to Rock, Paper, Scissors!\n",
            "Enter your choice (rock, paper, or scissors): scissors\n",
            "User choice: scissors\n",
            "Computer choice: paper\n",
            "User wins!\n"
          ]
        }
      ],
      "source": [
        "import random\n",
        "\n",
        "def get_user_choice():\n",
        "    \"\"\"Get user's choice (rock, paper, or scissors).\"\"\"\n",
        "    user_input = input(\"Enter your choice (rock, paper, or scissors): \").lower()\n",
        "    if user_input in ['rock', 'paper', 'scissors']:\n",
        "        return user_input\n",
        "    else:\n",
        "        print(\"Invalid input. Please try again.\")\n",
        "        return get_user_choice()\n",
        "\n",
        "def get_computer_choice():\n",
        "    \"\"\"Get computer's choice randomly.\"\"\"\n",
        "    computer_choices = ['rock', 'paper', 'scissors']\n",
        "    return random.choice(computer_choices)\n",
        "\n",
        "def determine_winner(user, computer):\n",
        "    \"\"\"Determine the winner based on the rules of the game.\"\"\"\n",
        "    if user == computer:\n",
        "        return \"tie\"\n",
        "    elif (user == 'rock' and computer == 'scissors') or \\\n",
        "         (user == 'scissors' and computer == 'paper') or \\\n",
        "         (user == 'paper' and computer == 'rock'):\n",
        "        return \"user\"\n",
        "    else:\n",
        "        return \"computer\"\n",
        "\n",
        "def main():\n",
        "    \"\"\"Main function to run the game.\"\"\"\n",
        "    print(\"Welcome to Rock, Paper, Scissors!\")\n",
        "    user_choice = get_user_choice()\n",
        "    computer_choice = get_computer_choice()\n",
        "    print(f\"User choice: {user_choice}\")\n",
        "    print(f\"Computer choice: {computer_choice}\")\n",
        "    winner = determine_winner(user_choice, computer_choice)\n",
        "    if winner == \"user\":\n",
        "        print(\"User wins!\")\n",
        "    elif winner == \"computer\":\n",
        "        print(\"Computer wins!\")\n",
        "    else:\n",
        "        print(\"It's a tie!\")\n",
        "\n",
        "if __name__ == \"__main__\":\n",
        "    main()"
      ]
    },
    {
      "cell_type": "code",
      "source": [
        "class Flight:\n",
        "    def __init__(self, flight_number, origin, destination, departure_time, capacity):\n",
        "        self.flight_number = flight_number\n",
        "        self.origin = origin\n",
        "        self.destination = destination\n",
        "        self.departure_time = departure_time\n",
        "        self.capacity = capacity\n",
        "        self.passengers = []\n",
        "\n",
        "    def add_passenger(self, passenger):\n",
        "        if len(self.passengers) < self.capacity:\n",
        "            self.passengers.append(passenger)\n",
        "            print(f\"{passenger} booked on Flight {self.flight_number}\")\n",
        "        else:\n",
        "            print(\"Sorry, the flight is already full.\")\n",
        "\n",
        "    def remove_passenger(self, passenger_name):\n",
        "        if passenger_name in self.passengers:\n",
        "            self.passengers.remove(passenger_name)\n",
        "            print(f\"{passenger_name} has been removed from Flight {self.flight_number}.\")\n",
        "        else:\n",
        "            print(\"Passenger not found.\")\n",
        "\n",
        "    def cancel_flight(self):\n",
        "        self.passengers = []\n",
        "        print(f\"Flight {self.flight_number} cancelled. Refunding all passengers.\")\n",
        "\n",
        "    def passenger_list(self):\n",
        "        print(f\"Passengers on Flight {self.flight_number}:\")\n",
        "        for passenger in self.passengers:\n",
        "            print(passenger)\n",
        "\n",
        "\n",
        "class Airline:\n",
        "    def __init__(self):\n",
        "        self.flights = []\n",
        "\n",
        "    def add_flight(self, flight):\n",
        "        self.flights.append(flight)\n",
        "\n",
        "    def cancel_flight(self, flight_number):\n",
        "        for flight in self.flights:\n",
        "            if flight.flight_number == flight_number:\n",
        "                flight.cancel_flight()\n",
        "                self.flights.remove(flight)\n",
        "                print(f\"Flight {flight_number} cancelled successfully.\")\n",
        "                return\n",
        "        print(f\"Flight {flight_number} not found.\")\n",
        "\n",
        "    def flight_list(self):\n",
        "        print(\"Flights:\")\n",
        "        for flight in self.flights:\n",
        "            print(f\"Flight {flight.flight_number} from {flight.origin} to {flight.destination} at {flight.departure_time}\")\n",
        "\n",
        "\n",
        "def display_menu():\n",
        "    print(\"1. Add Flight\")\n",
        "    print(\"2. Cancel Flight\")\n",
        "    print(\"3. View Flights\")\n",
        "    print(\"4. Add Passenger to Flight\")\n",
        "    print(\"5. Cancel a Passenger's Booking\")\n",
        "    print(\"6. View Passenger List of a Flight\")\n",
        "    print(\"0. Exit\")\n",
        "\n",
        "\n",
        "if __name__ == \"__main__\":\n",
        "    airline = Airline()\n",
        "    choice = None\n",
        "\n",
        "    while choice != \"0\":\n",
        "        display_menu()\n",
        "        choice = input(\"Enter your choice: \")\n",
        "\n",
        "        if choice == \"1\":\n",
        "            flight_number = input(\"Enter flight number: \")\n",
        "            origin = input(\"Enter origin: \")\n",
        "            destination = input(\"Enter destination: \")\n",
        "            departure_time = input(\"Enter departure time: \")\n",
        "            capacity = int(input(\"Enter capacity: \"))\n",
        "            flight = Flight(flight_number, origin, destination, departure_time, capacity)\n",
        "            airline.add_flight(flight)\n",
        "\n",
        "        elif choice == \"2\":\n",
        "            flight_number = input(\"Enter flight number to cancel: \")\n",
        "            airline.cancel_flight(flight_number)\n",
        "\n",
        "        elif choice == \"3\":\n",
        "            airline.flight_list()\n",
        "\n",
        "        elif choice == \"4\":\n",
        "            flight_number = input(\"Enter flight number: \")\n",
        "            passenger_name = input(\"Enter passenger name: \")\n",
        "            for flight in airline.flights:\n",
        "                if flight.flight_number == flight_number:\n",
        "                    flight.add_passenger(passenger_name)\n",
        "                    break\n",
        "            else:\n",
        "                print(\"Flight not found.\")\n",
        "\n",
        "        elif choice == \"5\":\n",
        "            flight_number = input(\"Enter flight number: \")\n",
        "            passenger_name = input(\"Enter passenger name: \")\n",
        "            for flight in airline.flights:\n",
        "                if flight.flight_number == flight_number:\n",
        "                    flight.remove_passenger(passenger)"
      ],
      "metadata": {
        "id": "ASvybY3MqPuu",
        "colab": {
          "base_uri": "https://localhost:8080/"
        },
        "outputId": "47bb68b0-6e5f-4c4c-a6ff-495bb5238043"
      },
      "execution_count": 8,
      "outputs": [
        {
          "name": "stdout",
          "output_type": "stream",
          "text": [
            "1. Add Flight\n",
            "2. Cancel Flight\n",
            "3. View Flights\n",
            "4. Add Passenger to Flight\n",
            "5. Cancel a Passenger's Booking\n",
            "6. View Passenger List of a Flight\n",
            "0. Exit\n",
            "Enter your choice: 0\n"
          ]
        }
      ]
    }
  ]
}